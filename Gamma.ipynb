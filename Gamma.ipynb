{
 "cells": [
  {
   "cell_type": "code",
   "execution_count": 54,
   "metadata": {},
   "outputs": [],
   "source": [
    "import numpy as np\n",
    "import scipy as sp\n",
    "from scipy import stats\n",
    "import matplotlib.pyplot as plt\n",
    "%matplotlib inline"
   ]
  },
  {
   "cell_type": "code",
   "execution_count": 55,
   "metadata": {},
   "outputs": [
    {
     "data": {
      "text/plain": [
       "(909.86, 6266.63, 2510.7941, 979.0443031253436, 958527.7474821898)"
      ]
     },
     "execution_count": 55,
     "metadata": {},
     "output_type": "execute_result"
    }
   ],
   "source": [
    "samp = np.loadtxt('170170.txt', usecols=2)\n",
    "MIN=samp.min();MAX=samp.max();MEAN=samp.mean();STD=samp.std();VAR=samp.var()\n",
    "MIN,MAX,MEAN,STD,VAR"
   ]
  },
  {
   "cell_type": "code",
   "execution_count": 56,
   "metadata": {},
   "outputs": [],
   "source": [
    "param = stats.gamma.fit(samp,floc=0) # distribution fitting\n",
    "\n",
    "x = np.linspace(MIN,MAX,1000) # fitted distribution\n",
    "pdf_fitted = stats.gamma.pdf(x, *param)"
   ]
  },
  {
   "cell_type": "code",
   "execution_count": 57,
   "metadata": {},
   "outputs": [
    {
     "name": "stdout",
     "output_type": "stream",
     "text": [
      "6.657976480626984 0.002651741327824127 2510.7941\n"
     ]
    }
   ],
   "source": [
    "print(param[0], 1/param[2], param[0]*param[2])"
   ]
  },
  {
   "cell_type": "code",
   "execution_count": 58,
   "metadata": {},
   "outputs": [
    {
     "name": "stdout",
     "output_type": "stream",
     "text": [
      "Power_divergenceResult(statistic=8.723105743254727, pvalue=0.27315195895983335)\n",
      "10.679901629603208\n"
     ]
    },
    {
     "data": {
      "image/png": "[encoded data removed]",
      "text/plain": [
       "<Figure size 432x288 with 1 Axes>"
      ]
     },
     "metadata": {
      "needs_background": "light"
     },
     "output_type": "display_data"
    }
   ],
   "source": [
    "# chi-square\n",
    "counts, edges, plot = plt.hist(samp,bins=10,alpha=0.4)\n",
    "\n",
    "summ = 0\n",
    "for i in range(0,10):\n",
    "    upper_cdf = stats.gamma.cdf(edges[i+1], *param)\n",
    "    lower_cdf = stats.gamma.cdf(edges[i], *param)\n",
    "    summ += (counts[i]**2/(100*(upper_cdf-lower_cdf)))\n",
    "chi_statistic = summ - 100\n",
    "\n",
    "exp_counts = np.array([])\n",
    "for i in range(0,10):\n",
    "    upper_cdf = stats.gamma.cdf(edges[i+1], *param)\n",
    "    lower_cdf = stats.gamma.cdf(edges[i], *param)\n",
    "    exp_counts = np.append(exp_counts, 100 * (upper_cdf - lower_cdf))\n",
    "print(stats.chisquare(counts,exp_counts,ddof=2))\n",
    "print(chi_statistic)"
   ]
  },
  {
   "cell_type": "code",
   "execution_count": 59,
   "metadata": {},
   "outputs": [
    {
     "data": {
      "text/plain": [
       "KstestResult(statistic=0.056650002344195344, pvalue=0.905297795969515)"
      ]
     },
     "execution_count": 59,
     "metadata": {},
     "output_type": "execute_result"
    }
   ],
   "source": [
    "stats.kstest(samp,'gamma',args = (param[0],param[1],param[2]))"
   ]
  },
  {
   "cell_type": "code",
   "execution_count": 60,
   "metadata": {},
   "outputs": [
    {
     "data": {
      "image/png": "[encoded data removed]",
      "text/plain": [
       "<Figure size 432x288 with 1 Axes>"
      ]
     },
     "metadata": {
      "needs_background": "light"
     },
     "output_type": "display_data"
    }
   ],
   "source": [
    "fig,axes = plt.subplots()\n",
    "\n",
    "axes.plot(x,pdf_fitted,'r',lw=2.5)\n",
    "axes.set_xlabel('x')\n",
    "axes.set_ylabel('pdf')\n",
    "axes.set_title('Gamma Distribution')\n",
    "fig.tight_layout()\n",
    "\n",
    "plt.hist(samp,alpha=0.4,density=True)\n",
    "fig.savefig(\"s5_gamma.png\",dpi=400)"
   ]
  },
  {
   "cell_type": "code",
   "execution_count": 61,
   "metadata": {},
   "outputs": [
    {
     "data": {
      "text/plain": [
       "1653.4813665088473"
      ]
     },
     "execution_count": 61,
     "metadata": {},
     "output_type": "execute_result"
    }
   ],
   "source": [
    "k = 2\n",
    "logLik = np.sum(stats.gamma.logpdf(samp, *param)) \n",
    "aic = 2*k - 2*(logLik)\n",
    "aic"
   ]
  },
  {
   "cell_type": "code",
   "execution_count": 62,
   "metadata": {},
   "outputs": [
    {
     "data": {
      "text/plain": [
       "4886.583373797843"
      ]
     },
     "execution_count": 62,
     "metadata": {},
     "output_type": "execute_result"
    }
   ],
   "source": [
    "dis = stats.gamma.ppf(0.98,*param)\n",
    "dis"
   ]
  }
 ],
 "metadata": {
  "kernelspec": {
   "display_name": "Python 3",
   "language": "python",
   "name": "python3"
  },
  "language_info": {
   "codemirror_mode": {
    "name": "ipython",
    "version": 3
   },
   "file_extension": ".py",
   "mimetype": "text/x-python",
   "name": "python",
   "nbconvert_exporter": "python",
   "pygments_lexer": "ipython3",
   "version": "3.6.5"
  }
 },
 "nbformat": 4,
 "nbformat_minor": 4
}
