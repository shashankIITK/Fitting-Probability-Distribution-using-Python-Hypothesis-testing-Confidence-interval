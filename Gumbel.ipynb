{
 "cells": [
  {
   "cell_type": "code",
   "execution_count": 54,
   "metadata": {},
   "outputs": [],
   "source": [
    "import numpy as np\n",
    "import scipy as sp\n",
    "from scipy import stats\n",
    "import matplotlib.pyplot as plt\n",
    "%matplotlib inline"
   ]
  },
  {
   "cell_type": "code",
   "execution_count": 76,
   "metadata": {},
   "outputs": [
    {
     "data": {
      "text/plain": [
       "(1527.85, 6831.3, 2471.2782, 1061.9694483659878, 1127779.1092627603)"
      ]
     },
     "execution_count": 76,
     "metadata": {},
     "output_type": "execute_result"
    }
   ],
   "source": [
    "samp = np.loadtxt('170170.txt', usecols=4)\n",
    "MIN=samp.min();MAX=samp.max();MEAN=samp.mean();STD=samp.std();VAR=samp.var()\n",
    "MIN,MAX,MEAN,STD,VAR"
   ]
  },
  {
   "cell_type": "code",
   "execution_count": 77,
   "metadata": {},
   "outputs": [],
   "source": [
    "param = stats.gumbel_r.fit(samp) # distribution fitting\n",
    "\n",
    "x = np.linspace(MIN,MAX,1000) # fitted distribution\n",
    "pdf_fitted = stats.gumbel_r.pdf(x, *param)"
   ]
  },
  {
   "cell_type": "code",
   "execution_count": 78,
   "metadata": {},
   "outputs": [
    {
     "data": {
      "text/plain": [
       "(2068.1790735292243, 592.7318227690419)"
      ]
     },
     "execution_count": 78,
     "metadata": {},
     "output_type": "execute_result"
    }
   ],
   "source": [
    "param"
   ]
  },
  {
   "cell_type": "code",
   "execution_count": 58,
   "metadata": {},
   "outputs": [
    {
     "name": "stdout",
     "output_type": "stream",
     "text": [
      "Power_divergenceResult(statistic=11.165073142166705, pvalue=0.08340667876054962)\n",
      "12.505242537591698\n"
     ]
    },
    {
     "data": {
      "image/png": "[encoded data removed]",
      "text/plain": [
       "<Figure size 432x288 with 1 Axes>"
      ]
     },
     "metadata": {
      "needs_background": "light"
     },
     "output_type": "display_data"
    }
   ],
   "source": [
    "# chi-square\n",
    "counts, edges, plot = plt.hist(samp,bins=10,alpha=0.4)\n",
    "\n",
    "summ = 0\n",
    "for i in range(0,10):\n",
    "    upper_cdf = stats.gumbel_r.cdf(edges[i+1], *param)\n",
    "    lower_cdf = stats.gumbel_r.cdf(edges[i], *param)\n",
    "    summ += (counts[i]**2/(100*(upper_cdf-lower_cdf)))\n",
    "chi_statistic = summ - 100\n",
    "\n",
    "exp_counts = np.array([])\n",
    "for i in range(0,10):\n",
    "    upper_cdf = stats.gumbel_r.cdf(edges[i+1], *param)\n",
    "    lower_cdf = stats.gumbel_r.cdf(edges[i], *param)\n",
    "    exp_counts = np.append(exp_counts, 100 * (upper_cdf - lower_cdf))\n",
    "print(stats.chisquare(counts,exp_counts,ddof=3))\n",
    "print(chi_statistic)"
   ]
  },
  {
   "cell_type": "code",
   "execution_count": 59,
   "metadata": {},
   "outputs": [
    {
     "data": {
      "text/plain": [
       "KstestResult(statistic=0.06957712862881837, pvalue=0.7259066901763589)"
      ]
     },
     "execution_count": 59,
     "metadata": {},
     "output_type": "execute_result"
    }
   ],
   "source": [
    "stats.kstest(samp,'gumbel_r',args = (param[0],param[1]))"
   ]
  },
  {
   "cell_type": "code",
   "execution_count": 60,
   "metadata": {},
   "outputs": [
    {
     "data": {
      "text/plain": [
       "AndersonResult(statistic=0.3296715806778536, critical_values=array([0.465, 0.625, 0.742, 0.86 , 1.018]), significance_level=array([25. , 10. ,  5. ,  2.5,  1. ]))"
      ]
     },
     "execution_count": 60,
     "metadata": {},
     "output_type": "execute_result"
    }
   ],
   "source": [
    "stats.anderson(samp, 'gumbel_r')"
   ]
  },
  {
   "cell_type": "code",
   "execution_count": 61,
   "metadata": {},
   "outputs": [
    {
     "data": {
      "text/plain": [
       "(array([4.84265019e-05, 3.63198764e-04, 5.81118023e-04, 4.11625266e-04,\n",
       "        4.35838517e-04, 2.42132509e-04, 1.21066255e-04, 7.26397528e-05,\n",
       "        4.84265019e-05, 9.68530038e-05]),\n",
       " array([ 862.08 , 1275.077, 1688.074, 2101.071, 2514.068, 2927.065,\n",
       "        3340.062, 3753.059, 4166.056, 4579.053, 4992.05 ]),\n",
       " <a list of 10 Patch objects>)"
      ]
     },
     "execution_count": 61,
     "metadata": {},
     "output_type": "execute_result"
    },
    {
     "data": {
      "image/png": "[encoded data removed]",
      "text/plain": [
       "<Figure size 432x288 with 1 Axes>"
      ]
     },
     "metadata": {
      "needs_background": "light"
     },
     "output_type": "display_data"
    }
   ],
   "source": [
    "fig,axes = plt.subplots()\n",
    "\n",
    "axes.plot(x,pdf_fitted,'r',lw=2.5)\n",
    "axes.set_xlabel('x')\n",
    "axes.set_ylabel('pdf')\n",
    "axes.set_title('Gumbel Distribution')\n",
    "fig.tight_layout()\n",
    "\n",
    "plt.hist(samp,alpha=0.4,density=True)"
   ]
  },
  {
   "cell_type": "code",
   "execution_count": 53,
   "metadata": {},
   "outputs": [
    {
     "data": {
      "text/plain": [
       "1617.8911248368731"
      ]
     },
     "execution_count": 53,
     "metadata": {},
     "output_type": "execute_result"
    }
   ],
   "source": [
    "k = 2\n",
    "logLik = np.sum(stats.gumbel_r.logpdf(samp, *param)) \n",
    "aic = 2*k - 2*(logLik)\n",
    "aic"
   ]
  },
  {
   "cell_type": "code",
   "execution_count": 63,
   "metadata": {},
   "outputs": [
    {
     "data": {
      "text/plain": [
       "4642.701546200449"
      ]
     },
     "execution_count": 63,
     "metadata": {},
     "output_type": "execute_result"
    }
   ],
   "source": [
    "dis = stats.gumbel_r.ppf(0.98,*param)\n",
    "dis"
   ]
  }
 ],
 "metadata": {
  "kernelspec": {
   "display_name": "Python 3",
   "language": "python",
   "name": "python3"
  },
  "language_info": {
   "codemirror_mode": {
    "name": "ipython",
    "version": 3
   },
   "file_extension": ".py",
   "mimetype": "text/x-python",
   "name": "python",
   "nbconvert_exporter": "python",
   "pygments_lexer": "ipython3",
   "version": "3.6.5"
  }
 },
 "nbformat": 4,
 "nbformat_minor": 4
}
