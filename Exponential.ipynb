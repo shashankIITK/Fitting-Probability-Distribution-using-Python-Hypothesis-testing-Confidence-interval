{
 "cells": [
  {
   "cell_type": "code",
   "execution_count": 52,
   "metadata": {},
   "outputs": [],
   "source": [
    "import numpy as np\n",
    "import scipy as sp\n",
    "from scipy import stats\n",
    "import matplotlib.pyplot as plt\n",
    "%matplotlib inline"
   ]
  },
  {
   "cell_type": "code",
   "execution_count": 62,
   "metadata": {},
   "outputs": [
    {
     "data": {
      "text/plain": [
       "(1527.85, 6831.3, 2471.2782, 1061.9694483659878, 1127779.1092627603)"
      ]
     },
     "execution_count": 62,
     "metadata": {},
     "output_type": "execute_result"
    }
   ],
   "source": [
    "samp = np.loadtxt('170170.txt', usecols=4)\n",
    "MIN=samp.min();MAX=samp.max();MEAN=samp.mean();STD=samp.std();VAR=samp.var()\n",
    "MIN,MAX,MEAN,STD,VAR"
   ]
  },
  {
   "cell_type": "code",
   "execution_count": 63,
   "metadata": {},
   "outputs": [],
   "source": [
    "param = stats.expon.fit(samp) # distribution fitting\n",
    "\n",
    "x = np.linspace(MIN,MAX,1000) # fitted distribution\n",
    "pdf_fitted = stats.expon.pdf(x, *param)"
   ]
  },
  {
   "cell_type": "code",
   "execution_count": 64,
   "metadata": {},
   "outputs": [
    {
     "data": {
      "text/plain": [
       "(1527.85, 943.4282000000003)"
      ]
     },
     "execution_count": 64,
     "metadata": {},
     "output_type": "execute_result"
    }
   ],
   "source": [
    "param"
   ]
  },
  {
   "cell_type": "code",
   "execution_count": 65,
   "metadata": {},
   "outputs": [
    {
     "name": "stdout",
     "output_type": "stream",
     "text": [
      "Power_divergenceResult(statistic=37.52408955193665, pvalue=3.731342630009403e-06)\n",
      "37.88602250701683\n"
     ]
    },
    {
     "data": {
      "image/png": "[encoded data removed]",
      "text/plain": [
       "<Figure size 432x288 with 1 Axes>"
      ]
     },
     "metadata": {
      "needs_background": "light"
     },
     "output_type": "display_data"
    }
   ],
   "source": [
    "# chi-square\n",
    "counts, edges, plot = plt.hist(samp,bins=10,alpha=0.4)\n",
    "\n",
    "summ = 0\n",
    "for i in range(0,10):\n",
    "    upper_cdf = stats.expon.cdf(edges[i+1], *param)\n",
    "    lower_cdf = stats.expon.cdf(edges[i], *param)\n",
    "    summ += (counts[i]**2/(100*(upper_cdf-lower_cdf)))\n",
    "chi_statistic = summ - 100\n",
    "\n",
    "exp_counts = np.array([])\n",
    "for i in range(0,10):\n",
    "    upper_cdf = stats.expon.cdf(edges[i+1], *param)\n",
    "    lower_cdf = stats.expon.cdf(edges[i], *param)\n",
    "    exp_counts = np.append(exp_counts, 100 * (upper_cdf - lower_cdf))\n",
    "print(stats.chisquare(counts,exp_counts,ddof=2))\n",
    "print(chi_statistic)"
   ]
  },
  {
   "cell_type": "code",
   "execution_count": 66,
   "metadata": {},
   "outputs": [
    {
     "data": {
      "text/plain": [
       "KstestResult(statistic=0.06713308751185543, pvalue=0.777334978045785)"
      ]
     },
     "execution_count": 66,
     "metadata": {},
     "output_type": "execute_result"
    }
   ],
   "source": [
    "stats.kstest(samp,'expon',args = (param[0],param[1]))"
   ]
  },
  {
   "cell_type": "code",
   "execution_count": 68,
   "metadata": {},
   "outputs": [
    {
     "data": {
      "text/plain": [
       "AndersonResult(statistic=21.534591721120123, critical_values=array([0.917, 1.072, 1.333, 1.596, 1.945]), significance_level=array([15. , 10. ,  5. ,  2.5,  1. ]))"
      ]
     },
     "execution_count": 68,
     "metadata": {},
     "output_type": "execute_result"
    }
   ],
   "source": [
    "stats.anderson(samp, 'expon')"
   ]
  },
  {
   "cell_type": "code",
   "execution_count": 70,
   "metadata": {},
   "outputs": [
    {
     "data": {
      "image/png": "[encoded data removed]",
      "text/plain": [
       "<Figure size 432x288 with 1 Axes>"
      ]
     },
     "metadata": {
      "needs_background": "light"
     },
     "output_type": "display_data"
    }
   ],
   "source": [
    "fig,axes = plt.subplots()\n",
    "\n",
    "axes.plot(x,pdf_fitted,'r',lw=2.5)\n",
    "axes.set_xlabel('x')\n",
    "axes.set_ylabel('pdf')\n",
    "axes.set_title('Exponential Distribution')\n",
    "fig.tight_layout()\n",
    "\n",
    "plt.hist(samp,alpha=0.4,density=True)\n",
    "fig.savefig(\"s5_expon.png\",dpi=400)"
   ]
  },
  {
   "cell_type": "code",
   "execution_count": 69,
   "metadata": {},
   "outputs": [
    {
     "data": {
      "text/plain": [
       "1571.9040524567679"
      ]
     },
     "execution_count": 69,
     "metadata": {},
     "output_type": "execute_result"
    }
   ],
   "source": [
    "k = 1\n",
    "logLik = np.sum(stats.expon.logpdf(samp, *param)) \n",
    "aic = 2*k - 2*(logLik)\n",
    "aic"
   ]
  }
 ],
 "metadata": {
  "kernelspec": {
   "display_name": "Python 3",
   "language": "python",
   "name": "python3"
  },
  "language_info": {
   "codemirror_mode": {
    "name": "ipython",
    "version": 3
   },
   "file_extension": ".py",
   "mimetype": "text/x-python",
   "name": "python",
   "nbconvert_exporter": "python",
   "pygments_lexer": "ipython3",
   "version": "3.6.5"
  }
 },
 "nbformat": 4,
 "nbformat_minor": 4
}
